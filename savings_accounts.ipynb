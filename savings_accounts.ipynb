{
 "cells": [
  {
   "cell_type": "markdown",
   "metadata": {},
   "source": [
    "# Savings accounts\n",
    "based on their banking behavior. We can take following things into consideration as banking behavior:\n",
    "do they have savings account? How much do they save?"
   ]
  },
  {
   "cell_type": "code",
   "execution_count": 30,
   "metadata": {},
   "outputs": [],
   "source": [
    "# Import libraries\n",
    "import pandas as pd\n",
    "import numpy as np\n",
    "\n",
    "import matplotlib.pyplot as plt\n",
    "import seaborn as sns"
   ]
  },
  {
   "cell_type": "code",
   "execution_count": 31,
   "metadata": {},
   "outputs": [],
   "source": [
    "accounts_df = pd.read_csv('./data/mini-project-III/twm_accounts.csv' , delimiter=';')\n",
    "savings_acct_df = pd.read_csv('./data/mini-project-III/twm_savings_acct.csv' , delimiter=';')\n",
    "savings_tran_df = pd.read_csv('./data/mini-project-III/twm_savings_tran.csv' , delimiter=';')"
   ]
  },
  {
   "cell_type": "code",
   "execution_count": 32,
   "metadata": {},
   "outputs": [],
   "source": [
    "def print_some_info(df):\n",
    "    print(\"Customers columns: \",df.columns)\n",
    "    print(\"Customers columns: \",len(df.columns))\n",
    "    print(\"Customers rows: \",len(df))"
   ]
  },
  {
   "cell_type": "code",
   "execution_count": 33,
   "metadata": {},
   "outputs": [
    {
     "name": "stdout",
     "output_type": "stream",
     "text": [
      "Customers columns:  Index(['cust_id', 'acct_nbr', 'minimum_balance', 'acct_type', 'account_active',\n",
      "       'acct_start_date', 'acct_end_date', 'starting_balance',\n",
      "       'ending_balance'],\n",
      "      dtype='object')\n",
      "Customers columns:  9\n",
      "Customers rows:  421\n"
     ]
    },
    {
     "data": {
      "text/html": [
       "<div>\n",
       "<style scoped>\n",
       "    .dataframe tbody tr th:only-of-type {\n",
       "        vertical-align: middle;\n",
       "    }\n",
       "\n",
       "    .dataframe tbody tr th {\n",
       "        vertical-align: top;\n",
       "    }\n",
       "\n",
       "    .dataframe thead th {\n",
       "        text-align: right;\n",
       "    }\n",
       "</style>\n",
       "<table border=\"1\" class=\"dataframe\">\n",
       "  <thead>\n",
       "    <tr style=\"text-align: right;\">\n",
       "      <th></th>\n",
       "      <th>cust_id</th>\n",
       "      <th>acct_nbr</th>\n",
       "      <th>minimum_balance</th>\n",
       "      <th>acct_type</th>\n",
       "      <th>account_active</th>\n",
       "      <th>acct_start_date</th>\n",
       "      <th>acct_end_date</th>\n",
       "      <th>starting_balance</th>\n",
       "      <th>ending_balance</th>\n",
       "    </tr>\n",
       "  </thead>\n",
       "  <tbody>\n",
       "    <tr>\n",
       "      <th>0</th>\n",
       "      <td>1363160</td>\n",
       "      <td>13631603</td>\n",
       "      <td>100</td>\n",
       "      <td>BS</td>\n",
       "      <td>Y</td>\n",
       "      <td>9.5.1988</td>\n",
       "      <td>NaN</td>\n",
       "      <td>113.04</td>\n",
       "      <td>122.54</td>\n",
       "    </tr>\n",
       "    <tr>\n",
       "      <th>1</th>\n",
       "      <td>1362487</td>\n",
       "      <td>13624873</td>\n",
       "      <td>500</td>\n",
       "      <td>MM</td>\n",
       "      <td>N</td>\n",
       "      <td>27.6.1994</td>\n",
       "      <td>25.8.1995</td>\n",
       "      <td>651.73</td>\n",
       "      <td>12.89</td>\n",
       "    </tr>\n",
       "    <tr>\n",
       "      <th>2</th>\n",
       "      <td>1362548</td>\n",
       "      <td>13625483</td>\n",
       "      <td>100</td>\n",
       "      <td>BS</td>\n",
       "      <td>Y</td>\n",
       "      <td>11.11.1986</td>\n",
       "      <td>NaN</td>\n",
       "      <td>250.24</td>\n",
       "      <td>254.02</td>\n",
       "    </tr>\n",
       "    <tr>\n",
       "      <th>3</th>\n",
       "      <td>1362752</td>\n",
       "      <td>13627523</td>\n",
       "      <td>100</td>\n",
       "      <td>BS</td>\n",
       "      <td>Y</td>\n",
       "      <td>20.2.1995</td>\n",
       "      <td>NaN</td>\n",
       "      <td>600.26</td>\n",
       "      <td>609.33</td>\n",
       "    </tr>\n",
       "    <tr>\n",
       "      <th>4</th>\n",
       "      <td>1363017</td>\n",
       "      <td>13630173</td>\n",
       "      <td>100</td>\n",
       "      <td>BS</td>\n",
       "      <td>N</td>\n",
       "      <td>27.4.1994</td>\n",
       "      <td>31.10.1995</td>\n",
       "      <td>2011.02</td>\n",
       "      <td>2901.35</td>\n",
       "    </tr>\n",
       "  </tbody>\n",
       "</table>\n",
       "</div>"
      ],
      "text/plain": [
       "   cust_id  acct_nbr  minimum_balance acct_type account_active  \\\n",
       "0  1363160  13631603              100      BS               Y    \n",
       "1  1362487  13624873              500      MM               N    \n",
       "2  1362548  13625483              100      BS               Y    \n",
       "3  1362752  13627523              100      BS               Y    \n",
       "4  1363017  13630173              100      BS               N    \n",
       "\n",
       "  acct_start_date acct_end_date  starting_balance  ending_balance  \n",
       "0        9.5.1988           NaN            113.04          122.54  \n",
       "1       27.6.1994     25.8.1995            651.73           12.89  \n",
       "2      11.11.1986           NaN            250.24          254.02  \n",
       "3       20.2.1995           NaN            600.26          609.33  \n",
       "4       27.4.1994    31.10.1995           2011.02         2901.35  "
      ]
     },
     "execution_count": 33,
     "metadata": {},
     "output_type": "execute_result"
    }
   ],
   "source": [
    "print_some_info(savings_acct_df)\n",
    "savings_acct_df.head()"
   ]
  },
  {
   "cell_type": "code",
   "execution_count": null,
   "metadata": {},
   "outputs": [],
   "source": []
  },
  {
   "cell_type": "code",
   "execution_count": 34,
   "metadata": {},
   "outputs": [],
   "source": [
    "# Keep only active accounts\n",
    "filter = savings_acct_df['account_active'] == 'Y '\n",
    "savings_acct_df[filter]\n",
    "savings_accounts = savings_acct_df[filter].copy()"
   ]
  },
  {
   "cell_type": "code",
   "execution_count": 35,
   "metadata": {},
   "outputs": [],
   "source": [
    "savings_accounts = savings_accounts.drop(['minimum_balance', 'account_active', 'acct_start_date','acct_end_date' ], axis=1)"
   ]
  },
  {
   "cell_type": "code",
   "execution_count": 38,
   "metadata": {},
   "outputs": [
    {
     "data": {
      "text/html": [
       "<div>\n",
       "<style scoped>\n",
       "    .dataframe tbody tr th:only-of-type {\n",
       "        vertical-align: middle;\n",
       "    }\n",
       "\n",
       "    .dataframe tbody tr th {\n",
       "        vertical-align: top;\n",
       "    }\n",
       "\n",
       "    .dataframe thead th {\n",
       "        text-align: right;\n",
       "    }\n",
       "</style>\n",
       "<table border=\"1\" class=\"dataframe\">\n",
       "  <thead>\n",
       "    <tr style=\"text-align: right;\">\n",
       "      <th></th>\n",
       "      <th>cust_id</th>\n",
       "      <th>acct_nbr</th>\n",
       "      <th>starting_balance</th>\n",
       "      <th>ending_balance</th>\n",
       "    </tr>\n",
       "  </thead>\n",
       "  <tbody>\n",
       "    <tr>\n",
       "      <th>count</th>\n",
       "      <td>3.750000e+02</td>\n",
       "      <td>3.750000e+02</td>\n",
       "      <td>375.000000</td>\n",
       "      <td>375.000000</td>\n",
       "    </tr>\n",
       "    <tr>\n",
       "      <th>mean</th>\n",
       "      <td>1.362982e+06</td>\n",
       "      <td>1.362983e+07</td>\n",
       "      <td>928.019627</td>\n",
       "      <td>1302.989333</td>\n",
       "    </tr>\n",
       "    <tr>\n",
       "      <th>std</th>\n",
       "      <td>2.951131e+02</td>\n",
       "      <td>2.951131e+03</td>\n",
       "      <td>1790.311934</td>\n",
       "      <td>2144.665831</td>\n",
       "    </tr>\n",
       "    <tr>\n",
       "      <th>min</th>\n",
       "      <td>1.362480e+06</td>\n",
       "      <td>1.362480e+07</td>\n",
       "      <td>100.240000</td>\n",
       "      <td>2.740000</td>\n",
       "    </tr>\n",
       "    <tr>\n",
       "      <th>25%</th>\n",
       "      <td>1.362719e+06</td>\n",
       "      <td>1.362719e+07</td>\n",
       "      <td>183.900000</td>\n",
       "      <td>259.820000</td>\n",
       "    </tr>\n",
       "    <tr>\n",
       "      <th>50%</th>\n",
       "      <td>1.362973e+06</td>\n",
       "      <td>1.362973e+07</td>\n",
       "      <td>318.670000</td>\n",
       "      <td>653.580000</td>\n",
       "    </tr>\n",
       "    <tr>\n",
       "      <th>75%</th>\n",
       "      <td>1.363252e+06</td>\n",
       "      <td>1.363252e+07</td>\n",
       "      <td>767.100000</td>\n",
       "      <td>1541.840000</td>\n",
       "    </tr>\n",
       "    <tr>\n",
       "      <th>max</th>\n",
       "      <td>1.363495e+06</td>\n",
       "      <td>1.363495e+07</td>\n",
       "      <td>17303.420000</td>\n",
       "      <td>22432.780000</td>\n",
       "    </tr>\n",
       "  </tbody>\n",
       "</table>\n",
       "</div>"
      ],
      "text/plain": [
       "            cust_id      acct_nbr  starting_balance  ending_balance\n",
       "count  3.750000e+02  3.750000e+02        375.000000      375.000000\n",
       "mean   1.362982e+06  1.362983e+07        928.019627     1302.989333\n",
       "std    2.951131e+02  2.951131e+03       1790.311934     2144.665831\n",
       "min    1.362480e+06  1.362480e+07        100.240000        2.740000\n",
       "25%    1.362719e+06  1.362719e+07        183.900000      259.820000\n",
       "50%    1.362973e+06  1.362973e+07        318.670000      653.580000\n",
       "75%    1.363252e+06  1.363252e+07        767.100000     1541.840000\n",
       "max    1.363495e+06  1.363495e+07      17303.420000    22432.780000"
      ]
     },
     "execution_count": 38,
     "metadata": {},
     "output_type": "execute_result"
    }
   ],
   "source": [
    "savings_accounts.describe()"
   ]
  },
  {
   "cell_type": "code",
   "execution_count": 39,
   "metadata": {},
   "outputs": [
    {
     "name": "stdout",
     "output_type": "stream",
     "text": [
      "<class 'pandas.core.frame.DataFrame'>\n",
      "Int64Index: 375 entries, 0 to 420\n",
      "Data columns (total 5 columns):\n",
      " #   Column            Non-Null Count  Dtype  \n",
      "---  ------            --------------  -----  \n",
      " 0   cust_id           375 non-null    int64  \n",
      " 1   acct_nbr          375 non-null    int64  \n",
      " 2   acct_type         375 non-null    object \n",
      " 3   starting_balance  375 non-null    float64\n",
      " 4   ending_balance    375 non-null    float64\n",
      "dtypes: float64(2), int64(2), object(1)\n",
      "memory usage: 17.6+ KB\n"
     ]
    }
   ],
   "source": [
    "savings_accounts.info()"
   ]
  },
  {
   "cell_type": "code",
   "execution_count": 40,
   "metadata": {},
   "outputs": [
    {
     "data": {
      "text/html": [
       "<div>\n",
       "<style scoped>\n",
       "    .dataframe tbody tr th:only-of-type {\n",
       "        vertical-align: middle;\n",
       "    }\n",
       "\n",
       "    .dataframe tbody tr th {\n",
       "        vertical-align: top;\n",
       "    }\n",
       "\n",
       "    .dataframe thead th {\n",
       "        text-align: right;\n",
       "    }\n",
       "</style>\n",
       "<table border=\"1\" class=\"dataframe\">\n",
       "  <thead>\n",
       "    <tr style=\"text-align: right;\">\n",
       "      <th></th>\n",
       "      <th>Total</th>\n",
       "      <th>Percent</th>\n",
       "    </tr>\n",
       "  </thead>\n",
       "  <tbody>\n",
       "    <tr>\n",
       "      <th>ending_balance</th>\n",
       "      <td>0</td>\n",
       "      <td>NaN</td>\n",
       "    </tr>\n",
       "    <tr>\n",
       "      <th>starting_balance</th>\n",
       "      <td>0</td>\n",
       "      <td>NaN</td>\n",
       "    </tr>\n",
       "    <tr>\n",
       "      <th>acct_type</th>\n",
       "      <td>0</td>\n",
       "      <td>NaN</td>\n",
       "    </tr>\n",
       "    <tr>\n",
       "      <th>acct_nbr</th>\n",
       "      <td>0</td>\n",
       "      <td>NaN</td>\n",
       "    </tr>\n",
       "    <tr>\n",
       "      <th>cust_id</th>\n",
       "      <td>0</td>\n",
       "      <td>NaN</td>\n",
       "    </tr>\n",
       "  </tbody>\n",
       "</table>\n",
       "</div>"
      ],
      "text/plain": [
       "                  Total  Percent\n",
       "ending_balance        0      NaN\n",
       "starting_balance      0      NaN\n",
       "acct_type             0      NaN\n",
       "acct_nbr              0      NaN\n",
       "cust_id               0      NaN"
      ]
     },
     "execution_count": 40,
     "metadata": {},
     "output_type": "execute_result"
    }
   ],
   "source": [
    "# Check for nulls in customers table\n",
    "total = savings_accounts.isna().sum().sort_values(ascending=False)\n",
    "percent = (savings_accounts.isna().sum()/savings_accounts.isna().sum()).sort_values(ascending=False)\n",
    "missing_data = pd.concat([total, percent], axis=1, keys=['Total', 'Percent'])\n",
    "missing_data"
   ]
  },
  {
   "cell_type": "code",
   "execution_count": 41,
   "metadata": {},
   "outputs": [
    {
     "name": "stdout",
     "output_type": "stream",
     "text": [
      "0\n"
     ]
    }
   ],
   "source": [
    "#check for dupes for Id\n",
    "idsUnique = len(set(savings_accounts.cust_id))\n",
    "idsTotal = savings_accounts.shape[0]\n",
    "idsdupe = idsTotal - idsUnique\n",
    "print(idsdupe)"
   ]
  },
  {
   "cell_type": "code",
   "execution_count": 43,
   "metadata": {},
   "outputs": [
    {
     "data": {
      "text/plain": [
       "cust_id               int64\n",
       "acct_nbr              int64\n",
       "acct_type            object\n",
       "starting_balance    float64\n",
       "ending_balance      float64\n",
       "dtype: object"
      ]
     },
     "execution_count": 43,
     "metadata": {},
     "output_type": "execute_result"
    }
   ],
   "source": [
    "savings_accounts.dtypes"
   ]
  },
  {
   "cell_type": "code",
   "execution_count": 45,
   "metadata": {},
   "outputs": [
    {
     "name": "stdout",
     "output_type": "stream",
     "text": [
      "Variable: acct_type unique values:  2\n"
     ]
    }
   ],
   "source": [
    "for col in savings_accounts.dtypes[savings_accounts.dtypes == 'object'].index:\n",
    "    print(f\"Variable: {col} unique values: \", savings_accounts[col].nunique())"
   ]
  },
  {
   "cell_type": "code",
   "execution_count": 46,
   "metadata": {},
   "outputs": [
    {
     "name": "stdout",
     "output_type": "stream",
     "text": [
      "Variable: cust_id unique values:  375\n",
      "Variable: acct_nbr unique values:  375\n",
      "Variable: starting_balance unique values:  374\n",
      "Variable: ending_balance unique values:  374\n"
     ]
    }
   ],
   "source": [
    "for col in savings_accounts.dtypes[savings_accounts.dtypes != 'object'].index:\n",
    "    print(f\"Variable: {col} unique values: \", savings_accounts[col].nunique())"
   ]
  },
  {
   "cell_type": "code",
   "execution_count": 47,
   "metadata": {},
   "outputs": [],
   "source": [
    "def num_cat_variables(variable,df):\n",
    "    print(\"Variable: \", variable)\n",
    "    print(df[variable].describe())"
   ]
  },
  {
   "cell_type": "code",
   "execution_count": 49,
   "metadata": {},
   "outputs": [
    {
     "name": "stdout",
     "output_type": "stream",
     "text": [
      "Variable:  acct_type\n",
      "count      375\n",
      "unique       2\n",
      "top       BS  \n",
      "freq       283\n",
      "Name: acct_type, dtype: object\n",
      "Unique values:  ['BS  ' 'MM  ']\n",
      "\n"
     ]
    }
   ],
   "source": [
    "#data['Item_Identifier'].describe()\n",
    "for col in savings_accounts.dtypes[savings_accounts.dtypes == 'object'].index:\n",
    "    num_cat_variables(col,savings_accounts)\n",
    "    print(\"Unique values: \", savings_accounts[col].unique())\n",
    "    print('')"
   ]
  },
  {
   "cell_type": "code",
   "execution_count": 54,
   "metadata": {},
   "outputs": [],
   "source": [
    "# Strip acct_type\n",
    "savings_accounts['acct_type'] = savings_accounts['acct_type'].str.strip()"
   ]
  },
  {
   "cell_type": "code",
   "execution_count": 56,
   "metadata": {},
   "outputs": [
    {
     "data": {
      "text/plain": [
       "count     375\n",
       "unique      2\n",
       "top        BS\n",
       "freq      283\n",
       "Name: acct_type, dtype: object"
      ]
     },
     "execution_count": 56,
     "metadata": {},
     "output_type": "execute_result"
    }
   ],
   "source": [
    "savings_accounts['acct_type'].describe()"
   ]
  },
  {
   "cell_type": "code",
   "execution_count": 58,
   "metadata": {},
   "outputs": [
    {
     "name": "stderr",
     "output_type": "stream",
     "text": [
      "/Users/jandas/opt/anaconda3/lib/python3.8/site-packages/seaborn/distributions.py:2551: FutureWarning: `distplot` is a deprecated function and will be removed in a future version. Please adapt your code to use either `displot` (a figure-level function with similar flexibility) or `histplot` (an axes-level function for histograms).\n",
      "  warnings.warn(msg, FutureWarning)\n"
     ]
    },
    {
     "data": {
      "text/plain": [
       "<AxesSubplot:xlabel='starting_balance', ylabel='Density'>"
      ]
     },
     "execution_count": 58,
     "metadata": {},
     "output_type": "execute_result"
    },
    {
     "data": {
      "image/png": "[encoded data removed]",
      "text/plain": [
       "<Figure size 432x288 with 1 Axes>"
      ]
     },
     "metadata": {
      "needs_background": "light"
     },
     "output_type": "display_data"
    }
   ],
   "source": [
    "sns.distplot(savings_accounts[\"starting_balance\"])"
   ]
  },
  {
   "cell_type": "code",
   "execution_count": 59,
   "metadata": {},
   "outputs": [
    {
     "name": "stderr",
     "output_type": "stream",
     "text": [
      "/Users/jandas/opt/anaconda3/lib/python3.8/site-packages/seaborn/distributions.py:2551: FutureWarning: `distplot` is a deprecated function and will be removed in a future version. Please adapt your code to use either `displot` (a figure-level function with similar flexibility) or `histplot` (an axes-level function for histograms).\n",
      "  warnings.warn(msg, FutureWarning)\n"
     ]
    },
    {
     "data": {
      "text/plain": [
       "<AxesSubplot:xlabel='ending_balance', ylabel='Density'>"
      ]
     },
     "execution_count": 59,
     "metadata": {},
     "output_type": "execute_result"
    },
    {
     "data": {
      "image/png": "[encoded data removed]",
      "text/plain": [
       "<Figure size 432x288 with 1 Axes>"
      ]
     },
     "metadata": {
      "needs_background": "light"
     },
     "output_type": "display_data"
    }
   ],
   "source": [
    "sns.distplot(savings_accounts[\"ending_balance\"])"
   ]
  },
  {
   "cell_type": "code",
   "execution_count": 60,
   "metadata": {},
   "outputs": [],
   "source": [
    "savings_accounts.to_csv('./data/savings_accounts_cleaned.csv')"
   ]
  },
  {
   "cell_type": "code",
   "execution_count": null,
   "metadata": {},
   "outputs": [],
   "source": []
  },
  {
   "cell_type": "code",
   "execution_count": null,
   "metadata": {},
   "outputs": [],
   "source": []
  },
  {
   "cell_type": "code",
   "execution_count": null,
   "metadata": {},
   "outputs": [],
   "source": []
  },
  {
   "cell_type": "code",
   "execution_count": null,
   "metadata": {},
   "outputs": [],
   "source": []
  },
  {
   "cell_type": "code",
   "execution_count": null,
   "metadata": {},
   "outputs": [],
   "source": []
  },
  {
   "cell_type": "code",
   "execution_count": 2,
   "metadata": {},
   "outputs": [],
   "source": [
    "import pandas as pd"
   ]
  },
  {
   "cell_type": "code",
   "execution_count": null,
   "metadata": {},
   "outputs": [],
   "source": []
  },
  {
   "cell_type": "code",
   "execution_count": 6,
   "metadata": {},
   "outputs": [],
   "source": [
    "transactions = pd.read_csv('./data/transactions_accounts.csv' , delimiter=',')"
   ]
  },
  {
   "cell_type": "code",
   "execution_count": 7,
   "metadata": {},
   "outputs": [
    {
     "data": {
      "text/html": [
       "<div>\n",
       "<style scoped>\n",
       "    .dataframe tbody tr th:only-of-type {\n",
       "        vertical-align: middle;\n",
       "    }\n",
       "\n",
       "    .dataframe tbody tr th {\n",
       "        vertical-align: top;\n",
       "    }\n",
       "\n",
       "    .dataframe thead th {\n",
       "        text-align: right;\n",
       "    }\n",
       "</style>\n",
       "<table border=\"1\" class=\"dataframe\">\n",
       "  <thead>\n",
       "    <tr style=\"text-align: right;\">\n",
       "      <th></th>\n",
       "      <th>tran_id</th>\n",
       "      <th>acct_nbr</th>\n",
       "      <th>tran_amt</th>\n",
       "      <th>new_balance</th>\n",
       "      <th>tran_date</th>\n",
       "      <th>tran_time</th>\n",
       "      <th>tran_code</th>\n",
       "      <th>cust_id</th>\n",
       "      <th>starting_balance</th>\n",
       "      <th>ending_balance</th>\n",
       "      <th>acct_type</th>\n",
       "    </tr>\n",
       "  </thead>\n",
       "  <tbody>\n",
       "    <tr>\n",
       "      <th>0</th>\n",
       "      <td>27</td>\n",
       "      <td>13625623</td>\n",
       "      <td>0.00</td>\n",
       "      <td>3753.34</td>\n",
       "      <td>21.10.1995</td>\n",
       "      <td>121656</td>\n",
       "      <td>IQ</td>\n",
       "      <td>1362562</td>\n",
       "      <td>391.96</td>\n",
       "      <td>3864.77</td>\n",
       "      <td>saving</td>\n",
       "    </tr>\n",
       "    <tr>\n",
       "      <th>1</th>\n",
       "      <td>39</td>\n",
       "      <td>13625623</td>\n",
       "      <td>140.63</td>\n",
       "      <td>3859.95</td>\n",
       "      <td>27.12.1995</td>\n",
       "      <td>170033</td>\n",
       "      <td>DP</td>\n",
       "      <td>1362562</td>\n",
       "      <td>391.96</td>\n",
       "      <td>3864.77</td>\n",
       "      <td>saving</td>\n",
       "    </tr>\n",
       "    <tr>\n",
       "      <th>2</th>\n",
       "      <td>2</td>\n",
       "      <td>13625623</td>\n",
       "      <td>0.49</td>\n",
       "      <td>392.94</td>\n",
       "      <td>28.2.1995</td>\n",
       "      <td>235959</td>\n",
       "      <td>IN</td>\n",
       "      <td>1362562</td>\n",
       "      <td>391.96</td>\n",
       "      <td>3864.77</td>\n",
       "      <td>saving</td>\n",
       "    </tr>\n",
       "    <tr>\n",
       "      <th>3</th>\n",
       "      <td>14</td>\n",
       "      <td>13625623</td>\n",
       "      <td>-120.00</td>\n",
       "      <td>2253.68</td>\n",
       "      <td>6.8.1995</td>\n",
       "      <td>204727</td>\n",
       "      <td>WD</td>\n",
       "      <td>1362562</td>\n",
       "      <td>391.96</td>\n",
       "      <td>3864.77</td>\n",
       "      <td>saving</td>\n",
       "    </tr>\n",
       "    <tr>\n",
       "      <th>4</th>\n",
       "      <td>26</td>\n",
       "      <td>13625623</td>\n",
       "      <td>-140.00</td>\n",
       "      <td>3753.34</td>\n",
       "      <td>21.10.1995</td>\n",
       "      <td>121543</td>\n",
       "      <td>WD</td>\n",
       "      <td>1362562</td>\n",
       "      <td>391.96</td>\n",
       "      <td>3864.77</td>\n",
       "      <td>saving</td>\n",
       "    </tr>\n",
       "  </tbody>\n",
       "</table>\n",
       "</div>"
      ],
      "text/plain": [
       "   tran_id  acct_nbr  tran_amt  new_balance   tran_date  tran_time tran_code  \\\n",
       "0       27  13625623      0.00      3753.34  21.10.1995     121656      IQ     \n",
       "1       39  13625623    140.63      3859.95  27.12.1995     170033      DP     \n",
       "2        2  13625623      0.49       392.94   28.2.1995     235959      IN     \n",
       "3       14  13625623   -120.00      2253.68    6.8.1995     204727      WD     \n",
       "4       26  13625623   -140.00      3753.34  21.10.1995     121543      WD     \n",
       "\n",
       "   cust_id  starting_balance  ending_balance acct_type  \n",
       "0  1362562            391.96         3864.77    saving  \n",
       "1  1362562            391.96         3864.77    saving  \n",
       "2  1362562            391.96         3864.77    saving  \n",
       "3  1362562            391.96         3864.77    saving  \n",
       "4  1362562            391.96         3864.77    saving  "
      ]
     },
     "execution_count": 7,
     "metadata": {},
     "output_type": "execute_result"
    }
   ],
   "source": [
    "transactions.head() Small transactions 10 big transations 30 "
   ]
  },
  {
   "cell_type": "code",
   "execution_count": 31,
   "metadata": {},
   "outputs": [
    {
     "data": {
      "text/plain": [
       "Index(['tran_id', 'acct_nbr', 'tran_amt', 'new_balance', 'tran_date',\n",
       "       'tran_time', 'tran_code', 'cust_id', 'starting_balance',\n",
       "       'ending_balance', 'acct_type'],\n",
       "      dtype='object')"
      ]
     },
     "execution_count": 31,
     "metadata": {},
     "output_type": "execute_result"
    }
   ],
   "source": [
    "transactions.columns"
   ]
  },
  {
   "cell_type": "code",
   "execution_count": null,
   "metadata": {},
   "outputs": [],
   "source": [
    "acct_nbr, tran_amt, new_balance,"
   ]
  },
  {
   "cell_type": "code",
   "execution_count": 16,
   "metadata": {},
   "outputs": [],
   "source": [
    "# Import libraries\n",
    "import pandas as pd\n",
    "import numpy as np\n",
    "\n",
    "import matplotlib.pyplot as plt\n",
    "import seaborn as sns"
   ]
  },
  {
   "cell_type": "code",
   "execution_count": 32,
   "metadata": {},
   "outputs": [],
   "source": [
    "# Read Files\n",
    "customers_df = pd.read_csv('./data/mini-project-III/twm_customer.csv' , delimiter=';')\n",
    "accounts_df = pd.read_csv('./data/mini-project-III/twm_accounts.csv' , delimiter=';')\n",
    "checking_acct_df = pd.read_csv('./data/mini-project-III/twm_checking_acct.csv' , delimiter=';')\n",
    "credit_acct_df = pd.read_csv('./data/mini-project-III/twm_credit_acct.csv' , delimiter=';')\n",
    "savings_acct_df = pd.read_csv('./data/mini-project-III/twm_savings_acct.csv' , delimiter=';')\n",
    "transactions_df = pd.read_csv('./data/mini-project-III/twm_transactions.csv' , delimiter=';')\n",
    "savings_tran_df = pd.read_csv('./data/mini-project-III/twm_savings_tran.csv' , delimiter=';')\n",
    "cheking_tran_df = pd.read_csv('./data/mini-project-III/twm_checking_tran.csv' , delimiter=';')\n",
    "credit_tran_df = pd.read_csv('./data/mini-project-III/twm_credit_tran.csv' , delimiter=';')"
   ]
  },
  {
   "cell_type": "code",
   "execution_count": 27,
   "metadata": {},
   "outputs": [
    {
     "data": {
      "text/plain": [
       "Index(['acct_nbr', 'cust_id', 'acct_type', 'account_active', 'acct_start_date',\n",
       "       'acct_end_date', 'starting_balance', 'ending_balance'],\n",
       "      dtype='object')"
      ]
     },
     "execution_count": 27,
     "metadata": {},
     "output_type": "execute_result"
    }
   ],
   "source": [
    "accounts_df.columns"
   ]
  },
  {
   "cell_type": "code",
   "execution_count": 28,
   "metadata": {},
   "outputs": [
    {
     "data": {
      "text/plain": [
       "Index(['cust_id', 'acct_nbr', 'minimum_balance', 'per_check_fee',\n",
       "       'account_active', 'acct_start_date', 'acct_end_date',\n",
       "       'starting_balance', 'ending_balance'],\n",
       "      dtype='object')"
      ]
     },
     "execution_count": 28,
     "metadata": {},
     "output_type": "execute_result"
    }
   ],
   "source": [
    "checking_acct_df.columns"
   ]
  },
  {
   "cell_type": "code",
   "execution_count": 29,
   "metadata": {},
   "outputs": [
    {
     "data": {
      "text/plain": [
       "Index(['cust_id', 'acct_nbr', 'minimum_balance', 'acct_type', 'account_active',\n",
       "       'acct_start_date', 'acct_end_date', 'starting_balance',\n",
       "       'ending_balance'],\n",
       "      dtype='object')"
      ]
     },
     "execution_count": 29,
     "metadata": {},
     "output_type": "execute_result"
    }
   ],
   "source": [
    "savings_acct_df.columns"
   ]
  },
  {
   "cell_type": "code",
   "execution_count": 30,
   "metadata": {},
   "outputs": [
    {
     "data": {
      "text/plain": [
       "Index(['cust_id', 'acct_nbr', 'credit_limit', 'credit_rating',\n",
       "       'account_active', 'acct_start_date', 'acct_end_date',\n",
       "       'starting_balance', 'ending_balance'],\n",
       "      dtype='object')"
      ]
     },
     "execution_count": 30,
     "metadata": {},
     "output_type": "execute_result"
    }
   ],
   "source": [
    "credit_acct_df.columns"
   ]
  },
  {
   "cell_type": "code",
   "execution_count": 45,
   "metadata": {},
   "outputs": [
    {
     "data": {
      "text/plain": [
       "77580"
      ]
     },
     "execution_count": 45,
     "metadata": {},
     "output_type": "execute_result"
    }
   ],
   "source": [
    "len(transactions_df)"
   ]
  },
  {
   "cell_type": "code",
   "execution_count": 77,
   "metadata": {},
   "outputs": [
    {
     "data": {
      "text/html": [
       "<div>\n",
       "<style scoped>\n",
       "    .dataframe tbody tr th:only-of-type {\n",
       "        vertical-align: middle;\n",
       "    }\n",
       "\n",
       "    .dataframe tbody tr th {\n",
       "        vertical-align: top;\n",
       "    }\n",
       "\n",
       "    .dataframe thead th {\n",
       "        text-align: right;\n",
       "    }\n",
       "</style>\n",
       "<table border=\"1\" class=\"dataframe\">\n",
       "  <thead>\n",
       "    <tr style=\"text-align: right;\">\n",
       "      <th></th>\n",
       "      <th>tran_id</th>\n",
       "      <th>acct_nbr</th>\n",
       "      <th>tran_amt</th>\n",
       "      <th>principal_amt</th>\n",
       "      <th>interest_amt</th>\n",
       "      <th>new_balance</th>\n",
       "      <th>tran_date</th>\n",
       "      <th>tran_time</th>\n",
       "      <th>channel</th>\n",
       "      <th>tran_code</th>\n",
       "    </tr>\n",
       "  </thead>\n",
       "  <tbody>\n",
       "    <tr>\n",
       "      <th>0</th>\n",
       "      <td>27</td>\n",
       "      <td>13625623</td>\n",
       "      <td>0.00</td>\n",
       "      <td>0.00</td>\n",
       "      <td>0.0</td>\n",
       "      <td>3753.34</td>\n",
       "      <td>21.10.1995</td>\n",
       "      <td>121656</td>\n",
       "      <td>A</td>\n",
       "      <td>IQ</td>\n",
       "    </tr>\n",
       "    <tr>\n",
       "      <th>1</th>\n",
       "      <td>97</td>\n",
       "      <td>13628392</td>\n",
       "      <td>0.00</td>\n",
       "      <td>0.00</td>\n",
       "      <td>0.0</td>\n",
       "      <td>254.49</td>\n",
       "      <td>5.2.1995</td>\n",
       "      <td>153053</td>\n",
       "      <td>V</td>\n",
       "      <td>IQ</td>\n",
       "    </tr>\n",
       "    <tr>\n",
       "      <th>2</th>\n",
       "      <td>21</td>\n",
       "      <td>13630842</td>\n",
       "      <td>-97.57</td>\n",
       "      <td>-97.57</td>\n",
       "      <td>0.0</td>\n",
       "      <td>3819.56</td>\n",
       "      <td>23.7.1995</td>\n",
       "      <td>0</td>\n",
       "      <td>P</td>\n",
       "      <td>WD</td>\n",
       "    </tr>\n",
       "    <tr>\n",
       "      <th>3</th>\n",
       "      <td>44</td>\n",
       "      <td>13631412</td>\n",
       "      <td>-0.15</td>\n",
       "      <td>-0.15</td>\n",
       "      <td>0.0</td>\n",
       "      <td>224.05</td>\n",
       "      <td>30.1.1995</td>\n",
       "      <td>0</td>\n",
       "      <td></td>\n",
       "      <td>FK</td>\n",
       "    </tr>\n",
       "    <tr>\n",
       "      <th>4</th>\n",
       "      <td>31</td>\n",
       "      <td>13625722</td>\n",
       "      <td>0.00</td>\n",
       "      <td>0.00</td>\n",
       "      <td>0.0</td>\n",
       "      <td>240.55</td>\n",
       "      <td>25.1.1995</td>\n",
       "      <td>204521</td>\n",
       "      <td>B</td>\n",
       "      <td>IQ</td>\n",
       "    </tr>\n",
       "    <tr>\n",
       "      <th>...</th>\n",
       "      <td>...</td>\n",
       "      <td>...</td>\n",
       "      <td>...</td>\n",
       "      <td>...</td>\n",
       "      <td>...</td>\n",
       "      <td>...</td>\n",
       "      <td>...</td>\n",
       "      <td>...</td>\n",
       "      <td>...</td>\n",
       "      <td>...</td>\n",
       "    </tr>\n",
       "    <tr>\n",
       "      <th>77575</th>\n",
       "      <td>77</td>\n",
       "      <td>13631752</td>\n",
       "      <td>-95.71</td>\n",
       "      <td>-95.71</td>\n",
       "      <td>0.0</td>\n",
       "      <td>95.71</td>\n",
       "      <td>14.2.1995</td>\n",
       "      <td>161001</td>\n",
       "      <td>A</td>\n",
       "      <td>TR</td>\n",
       "    </tr>\n",
       "    <tr>\n",
       "      <th>77576</th>\n",
       "      <td>94</td>\n",
       "      <td>13626772</td>\n",
       "      <td>-93.90</td>\n",
       "      <td>-93.90</td>\n",
       "      <td>0.0</td>\n",
       "      <td>824.36</td>\n",
       "      <td>11.3.1995</td>\n",
       "      <td>0</td>\n",
       "      <td>P</td>\n",
       "      <td>WD</td>\n",
       "    </tr>\n",
       "    <tr>\n",
       "      <th>77577</th>\n",
       "      <td>42</td>\n",
       "      <td>13625262</td>\n",
       "      <td>-10.35</td>\n",
       "      <td>-10.35</td>\n",
       "      <td>0.0</td>\n",
       "      <td>10.36</td>\n",
       "      <td>26.8.1995</td>\n",
       "      <td>0</td>\n",
       "      <td>P</td>\n",
       "      <td>WD</td>\n",
       "    </tr>\n",
       "    <tr>\n",
       "      <th>77578</th>\n",
       "      <td>98</td>\n",
       "      <td>13627052</td>\n",
       "      <td>-423.80</td>\n",
       "      <td>-423.80</td>\n",
       "      <td>0.0</td>\n",
       "      <td>162.28</td>\n",
       "      <td>13.6.1995</td>\n",
       "      <td>110209</td>\n",
       "      <td>E</td>\n",
       "      <td>WD</td>\n",
       "    </tr>\n",
       "    <tr>\n",
       "      <th>77579</th>\n",
       "      <td>57</td>\n",
       "      <td>4561143213632570</td>\n",
       "      <td>0.00</td>\n",
       "      <td>0.00</td>\n",
       "      <td>0.0</td>\n",
       "      <td>-2420.91</td>\n",
       "      <td>18.10.1995</td>\n",
       "      <td>104027</td>\n",
       "      <td>A</td>\n",
       "      <td>IQ</td>\n",
       "    </tr>\n",
       "  </tbody>\n",
       "</table>\n",
       "<p>77580 rows × 10 columns</p>\n",
       "</div>"
      ],
      "text/plain": [
       "       tran_id          acct_nbr  tran_amt  principal_amt  interest_amt  \\\n",
       "0           27          13625623      0.00           0.00           0.0   \n",
       "1           97          13628392      0.00           0.00           0.0   \n",
       "2           21          13630842    -97.57         -97.57           0.0   \n",
       "3           44          13631412     -0.15          -0.15           0.0   \n",
       "4           31          13625722      0.00           0.00           0.0   \n",
       "...        ...               ...       ...            ...           ...   \n",
       "77575       77          13631752    -95.71         -95.71           0.0   \n",
       "77576       94          13626772    -93.90         -93.90           0.0   \n",
       "77577       42          13625262    -10.35         -10.35           0.0   \n",
       "77578       98          13627052   -423.80        -423.80           0.0   \n",
       "77579       57  4561143213632570      0.00           0.00           0.0   \n",
       "\n",
       "       new_balance   tran_date  tran_time channel tran_code  \n",
       "0          3753.34  21.10.1995     121656      A       IQ    \n",
       "1           254.49    5.2.1995     153053      V       IQ    \n",
       "2          3819.56   23.7.1995          0      P       WD    \n",
       "3           224.05   30.1.1995          0              FK    \n",
       "4           240.55   25.1.1995     204521      B       IQ    \n",
       "...            ...         ...        ...     ...       ...  \n",
       "77575        95.71   14.2.1995     161001      A       TR    \n",
       "77576       824.36   11.3.1995          0      P       WD    \n",
       "77577        10.36   26.8.1995          0      P       WD    \n",
       "77578       162.28   13.6.1995     110209      E       WD    \n",
       "77579     -2420.91  18.10.1995     104027      A       IQ    \n",
       "\n",
       "[77580 rows x 10 columns]"
      ]
     },
     "execution_count": 77,
     "metadata": {},
     "output_type": "execute_result"
    }
   ],
   "source": [
    "transactions_df"
   ]
  },
  {
   "cell_type": "code",
   "execution_count": 83,
   "metadata": {},
   "outputs": [
    {
     "ename": "AttributeError",
     "evalue": "'DataFrame' object has no attribute 'cust_id'",
     "output_type": "error",
     "traceback": [
      "\u001b[0;31m---------------------------------------------------------------------------\u001b[0m",
      "\u001b[0;31mAttributeError\u001b[0m                            Traceback (most recent call last)",
      "\u001b[0;32m<ipython-input-83-780affb8839a>\u001b[0m in \u001b[0;36m<module>\u001b[0;34m\u001b[0m\n\u001b[0;32m----> 1\u001b[0;31m \u001b[0midsUnique\u001b[0m \u001b[0;34m=\u001b[0m \u001b[0mlen\u001b[0m\u001b[0;34m(\u001b[0m\u001b[0mset\u001b[0m\u001b[0;34m(\u001b[0m\u001b[0mtransactions_df\u001b[0m\u001b[0;34m.\u001b[0m\u001b[0mcust_id\u001b[0m\u001b[0;34m)\u001b[0m\u001b[0;34m)\u001b[0m\u001b[0;34m\u001b[0m\u001b[0;34m\u001b[0m\u001b[0m\n\u001b[0m\u001b[1;32m      2\u001b[0m \u001b[0midsTotal\u001b[0m \u001b[0;34m=\u001b[0m \u001b[0mcustomers_df\u001b[0m\u001b[0;34m.\u001b[0m\u001b[0mshape\u001b[0m\u001b[0;34m[\u001b[0m\u001b[0;36m0\u001b[0m\u001b[0;34m]\u001b[0m\u001b[0;34m\u001b[0m\u001b[0;34m\u001b[0m\u001b[0m\n\u001b[1;32m      3\u001b[0m \u001b[0midsdupe\u001b[0m \u001b[0;34m=\u001b[0m \u001b[0midsTotal\u001b[0m \u001b[0;34m-\u001b[0m \u001b[0midsUnique\u001b[0m\u001b[0;34m\u001b[0m\u001b[0;34m\u001b[0m\u001b[0m\n\u001b[1;32m      4\u001b[0m \u001b[0mprint\u001b[0m\u001b[0;34m(\u001b[0m\u001b[0midsdupe\u001b[0m\u001b[0;34m)\u001b[0m\u001b[0;34m\u001b[0m\u001b[0;34m\u001b[0m\u001b[0m\n",
      "\u001b[0;32m~/opt/anaconda3/lib/python3.8/site-packages/pandas/core/generic.py\u001b[0m in \u001b[0;36m__getattr__\u001b[0;34m(self, name)\u001b[0m\n\u001b[1;32m   5272\u001b[0m             \u001b[0;32mif\u001b[0m \u001b[0mself\u001b[0m\u001b[0;34m.\u001b[0m\u001b[0m_info_axis\u001b[0m\u001b[0;34m.\u001b[0m\u001b[0m_can_hold_identifiers_and_holds_name\u001b[0m\u001b[0;34m(\u001b[0m\u001b[0mname\u001b[0m\u001b[0;34m)\u001b[0m\u001b[0;34m:\u001b[0m\u001b[0;34m\u001b[0m\u001b[0;34m\u001b[0m\u001b[0m\n\u001b[1;32m   5273\u001b[0m                 \u001b[0;32mreturn\u001b[0m \u001b[0mself\u001b[0m\u001b[0;34m[\u001b[0m\u001b[0mname\u001b[0m\u001b[0;34m]\u001b[0m\u001b[0;34m\u001b[0m\u001b[0;34m\u001b[0m\u001b[0m\n\u001b[0;32m-> 5274\u001b[0;31m             \u001b[0;32mreturn\u001b[0m \u001b[0mobject\u001b[0m\u001b[0;34m.\u001b[0m\u001b[0m__getattribute__\u001b[0m\u001b[0;34m(\u001b[0m\u001b[0mself\u001b[0m\u001b[0;34m,\u001b[0m \u001b[0mname\u001b[0m\u001b[0;34m)\u001b[0m\u001b[0;34m\u001b[0m\u001b[0;34m\u001b[0m\u001b[0m\n\u001b[0m\u001b[1;32m   5275\u001b[0m \u001b[0;34m\u001b[0m\u001b[0m\n\u001b[1;32m   5276\u001b[0m     \u001b[0;32mdef\u001b[0m \u001b[0m__setattr__\u001b[0m\u001b[0;34m(\u001b[0m\u001b[0mself\u001b[0m\u001b[0;34m,\u001b[0m \u001b[0mname\u001b[0m\u001b[0;34m:\u001b[0m \u001b[0mstr\u001b[0m\u001b[0;34m,\u001b[0m \u001b[0mvalue\u001b[0m\u001b[0;34m)\u001b[0m \u001b[0;34m->\u001b[0m \u001b[0;32mNone\u001b[0m\u001b[0;34m:\u001b[0m\u001b[0;34m\u001b[0m\u001b[0;34m\u001b[0m\u001b[0m\n",
      "\u001b[0;31mAttributeError\u001b[0m: 'DataFrame' object has no attribute 'cust_id'"
     ]
    }
   ],
   "source": []
  },
  {
   "cell_type": "code",
   "execution_count": 80,
   "metadata": {},
   "outputs": [
    {
     "data": {
      "text/html": [
       "<div>\n",
       "<style scoped>\n",
       "    .dataframe tbody tr th:only-of-type {\n",
       "        vertical-align: middle;\n",
       "    }\n",
       "\n",
       "    .dataframe tbody tr th {\n",
       "        vertical-align: top;\n",
       "    }\n",
       "\n",
       "    .dataframe thead th {\n",
       "        text-align: right;\n",
       "    }\n",
       "</style>\n",
       "<table border=\"1\" class=\"dataframe\">\n",
       "  <thead>\n",
       "    <tr style=\"text-align: right;\">\n",
       "      <th></th>\n",
       "      <th>cust_id</th>\n",
       "      <th>tran_id</th>\n",
       "      <th>tran_amt</th>\n",
       "      <th>principal_amt</th>\n",
       "      <th>interest_amt</th>\n",
       "      <th>new_balance</th>\n",
       "      <th>tran_date</th>\n",
       "      <th>tran_time</th>\n",
       "      <th>channel</th>\n",
       "      <th>tran_code</th>\n",
       "    </tr>\n",
       "  </thead>\n",
       "  <tbody>\n",
       "    <tr>\n",
       "      <th>0</th>\n",
       "      <td>1363481</td>\n",
       "      <td>26</td>\n",
       "      <td>136.03</td>\n",
       "      <td>136.03</td>\n",
       "      <td>0.00</td>\n",
       "      <td>1521.57</td>\n",
       "      <td>26.10.1995</td>\n",
       "      <td>84111</td>\n",
       "      <td>A</td>\n",
       "      <td>DP</td>\n",
       "    </tr>\n",
       "    <tr>\n",
       "      <th>1</th>\n",
       "      <td>1362746</td>\n",
       "      <td>1</td>\n",
       "      <td>2.83</td>\n",
       "      <td>0.00</td>\n",
       "      <td>2.83</td>\n",
       "      <td>2265.90</td>\n",
       "      <td>31.1.1995</td>\n",
       "      <td>235959</td>\n",
       "      <td></td>\n",
       "      <td>IN</td>\n",
       "    </tr>\n",
       "    <tr>\n",
       "      <th>2</th>\n",
       "      <td>1363251</td>\n",
       "      <td>11</td>\n",
       "      <td>13.56</td>\n",
       "      <td>0.00</td>\n",
       "      <td>13.56</td>\n",
       "      <td>5438.90</td>\n",
       "      <td>30.4.1995</td>\n",
       "      <td>235959</td>\n",
       "      <td></td>\n",
       "      <td>IN</td>\n",
       "    </tr>\n",
       "    <tr>\n",
       "      <th>3</th>\n",
       "      <td>1362542</td>\n",
       "      <td>4</td>\n",
       "      <td>0.76</td>\n",
       "      <td>0.00</td>\n",
       "      <td>0.76</td>\n",
       "      <td>610.92</td>\n",
       "      <td>30.4.1995</td>\n",
       "      <td>235959</td>\n",
       "      <td></td>\n",
       "      <td>IN</td>\n",
       "    </tr>\n",
       "    <tr>\n",
       "      <th>4</th>\n",
       "      <td>1363387</td>\n",
       "      <td>11</td>\n",
       "      <td>148.69</td>\n",
       "      <td>148.69</td>\n",
       "      <td>0.00</td>\n",
       "      <td>470.05</td>\n",
       "      <td>21.5.1995</td>\n",
       "      <td>144736</td>\n",
       "      <td>E</td>\n",
       "      <td>DP</td>\n",
       "    </tr>\n",
       "    <tr>\n",
       "      <th>...</th>\n",
       "      <td>...</td>\n",
       "      <td>...</td>\n",
       "      <td>...</td>\n",
       "      <td>...</td>\n",
       "      <td>...</td>\n",
       "      <td>...</td>\n",
       "      <td>...</td>\n",
       "      <td>...</td>\n",
       "      <td>...</td>\n",
       "      <td>...</td>\n",
       "    </tr>\n",
       "    <tr>\n",
       "      <th>11184</th>\n",
       "      <td>1362950</td>\n",
       "      <td>10</td>\n",
       "      <td>1.68</td>\n",
       "      <td>0.00</td>\n",
       "      <td>1.68</td>\n",
       "      <td>674.90</td>\n",
       "      <td>31.10.1995</td>\n",
       "      <td>235959</td>\n",
       "      <td></td>\n",
       "      <td>IN</td>\n",
       "    </tr>\n",
       "    <tr>\n",
       "      <th>11185</th>\n",
       "      <td>1362721</td>\n",
       "      <td>14</td>\n",
       "      <td>0.02</td>\n",
       "      <td>0.00</td>\n",
       "      <td>0.02</td>\n",
       "      <td>13.82</td>\n",
       "      <td>30.9.1995</td>\n",
       "      <td>235959</td>\n",
       "      <td></td>\n",
       "      <td>IN</td>\n",
       "    </tr>\n",
       "    <tr>\n",
       "      <th>11186</th>\n",
       "      <td>1362806</td>\n",
       "      <td>4</td>\n",
       "      <td>3.60</td>\n",
       "      <td>0.00</td>\n",
       "      <td>3.60</td>\n",
       "      <td>1444.57</td>\n",
       "      <td>30.4.1995</td>\n",
       "      <td>235959</td>\n",
       "      <td></td>\n",
       "      <td>IN</td>\n",
       "    </tr>\n",
       "    <tr>\n",
       "      <th>11187</th>\n",
       "      <td>1362995</td>\n",
       "      <td>36</td>\n",
       "      <td>541.91</td>\n",
       "      <td>541.91</td>\n",
       "      <td>0.00</td>\n",
       "      <td>4326.98</td>\n",
       "      <td>24.9.1995</td>\n",
       "      <td>150959</td>\n",
       "      <td>E</td>\n",
       "      <td>DP</td>\n",
       "    </tr>\n",
       "    <tr>\n",
       "      <th>11188</th>\n",
       "      <td>1363011</td>\n",
       "      <td>6</td>\n",
       "      <td>2.87</td>\n",
       "      <td>0.00</td>\n",
       "      <td>2.87</td>\n",
       "      <td>2297.91</td>\n",
       "      <td>31.3.1995</td>\n",
       "      <td>235959</td>\n",
       "      <td></td>\n",
       "      <td>IN</td>\n",
       "    </tr>\n",
       "  </tbody>\n",
       "</table>\n",
       "<p>11189 rows × 10 columns</p>\n",
       "</div>"
      ],
      "text/plain": [
       "       cust_id  tran_id  tran_amt  principal_amt  interest_amt  new_balance  \\\n",
       "0      1363481       26    136.03         136.03          0.00      1521.57   \n",
       "1      1362746        1      2.83           0.00          2.83      2265.90   \n",
       "2      1363251       11     13.56           0.00         13.56      5438.90   \n",
       "3      1362542        4      0.76           0.00          0.76       610.92   \n",
       "4      1363387       11    148.69         148.69          0.00       470.05   \n",
       "...        ...      ...       ...            ...           ...          ...   \n",
       "11184  1362950       10      1.68           0.00          1.68       674.90   \n",
       "11185  1362721       14      0.02           0.00          0.02        13.82   \n",
       "11186  1362806        4      3.60           0.00          3.60      1444.57   \n",
       "11187  1362995       36    541.91         541.91          0.00      4326.98   \n",
       "11188  1363011        6      2.87           0.00          2.87      2297.91   \n",
       "\n",
       "        tran_date tran_time channel tran_code  \n",
       "0      26.10.1995     84111      A       DP    \n",
       "1       31.1.1995    235959              IN    \n",
       "2       30.4.1995    235959              IN    \n",
       "3       30.4.1995    235959              IN    \n",
       "4       21.5.1995    144736      E       DP    \n",
       "...           ...       ...     ...       ...  \n",
       "11184  31.10.1995    235959              IN    \n",
       "11185   30.9.1995    235959              IN    \n",
       "11186   30.4.1995    235959              IN    \n",
       "11187   24.9.1995    150959      E       DP    \n",
       "11188   31.3.1995    235959              IN    \n",
       "\n",
       "[11189 rows x 10 columns]"
      ]
     },
     "execution_count": 80,
     "metadata": {},
     "output_type": "execute_result"
    }
   ],
   "source": [
    "savings_tran_df"
   ]
  },
  {
   "cell_type": "code",
   "execution_count": 40,
   "metadata": {},
   "outputs": [
    {
     "data": {
      "text/plain": [
       "20167"
      ]
     },
     "execution_count": 40,
     "metadata": {},
     "output_type": "execute_result"
    }
   ],
   "source": [
    "len(credit_tran_df)"
   ]
  },
  {
   "cell_type": "code",
   "execution_count": 42,
   "metadata": {},
   "outputs": [
    {
     "data": {
      "text/plain": [
       "77560"
      ]
     },
     "execution_count": 42,
     "metadata": {},
     "output_type": "execute_result"
    }
   ],
   "source": [
    "11189 + 46204 + 20167"
   ]
  },
  {
   "cell_type": "code",
   "execution_count": null,
   "metadata": {},
   "outputs": [],
   "source": []
  }
 ],
 "metadata": {
  "kernelspec": {
   "display_name": "Python 3",
   "language": "python",
   "name": "python3"
  },
  "language_info": {
   "codemirror_mode": {
    "name": "ipython",
    "version": 3
   },
   "file_extension": ".py",
   "mimetype": "text/x-python",
   "name": "python",
   "nbconvert_exporter": "python",
   "pygments_lexer": "ipython3",
   "version": "3.8.5"
  }
 },
 "nbformat": 4,
 "nbformat_minor": 4
}
